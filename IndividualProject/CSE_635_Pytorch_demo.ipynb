{
  "nbformat": 4,
  "nbformat_minor": 0,
  "metadata": {
    "colab": {
      "name": "CSE 635: Pytorch demo.ipynb",
      "provenance": [],
      "collapsed_sections": [],
      "toc_visible": true
    },
    "kernelspec": {
      "name": "python3",
      "display_name": "Python 3"
    },
    "accelerator": "GPU",
    "widgets": {
      "application/vnd.jupyter.widget-state+json": {
        "c081db1c89a4448eaeb67378119bc5f9": {
          "model_module": "@jupyter-widgets/controls",
          "model_name": "HBoxModel",
          "state": {
            "_view_name": "HBoxView",
            "_dom_classes": [],
            "_model_name": "HBoxModel",
            "_view_module": "@jupyter-widgets/controls",
            "_model_module_version": "1.5.0",
            "_view_count": null,
            "_view_module_version": "1.5.0",
            "box_style": "",
            "layout": "IPY_MODEL_501dd8c1877f435f9d2df745b41908e3",
            "_model_module": "@jupyter-widgets/controls",
            "children": [
              "IPY_MODEL_638f6baebb6c400686e76a58bbe28bf9",
              "IPY_MODEL_117e27f1c8664b60b7a2a9885cc2a616"
            ]
          }
        },
        "501dd8c1877f435f9d2df745b41908e3": {
          "model_module": "@jupyter-widgets/base",
          "model_name": "LayoutModel",
          "state": {
            "_view_name": "LayoutView",
            "grid_template_rows": null,
            "right": null,
            "justify_content": null,
            "_view_module": "@jupyter-widgets/base",
            "overflow": null,
            "_model_module_version": "1.2.0",
            "_view_count": null,
            "flex_flow": null,
            "width": null,
            "min_width": null,
            "border": null,
            "align_items": null,
            "bottom": null,
            "_model_module": "@jupyter-widgets/base",
            "top": null,
            "grid_column": null,
            "overflow_y": null,
            "overflow_x": null,
            "grid_auto_flow": null,
            "grid_area": null,
            "grid_template_columns": null,
            "flex": null,
            "_model_name": "LayoutModel",
            "justify_items": null,
            "grid_row": null,
            "max_height": null,
            "align_content": null,
            "visibility": null,
            "align_self": null,
            "height": null,
            "min_height": null,
            "padding": null,
            "grid_auto_rows": null,
            "grid_gap": null,
            "max_width": null,
            "order": null,
            "_view_module_version": "1.2.0",
            "grid_template_areas": null,
            "object_position": null,
            "object_fit": null,
            "grid_auto_columns": null,
            "margin": null,
            "display": null,
            "left": null
          }
        },
        "638f6baebb6c400686e76a58bbe28bf9": {
          "model_module": "@jupyter-widgets/controls",
          "model_name": "FloatProgressModel",
          "state": {
            "_view_name": "ProgressView",
            "style": "IPY_MODEL_0a6a94d58df24f83926cab43be37b465",
            "_dom_classes": [],
            "description": "100%",
            "_model_name": "FloatProgressModel",
            "bar_style": "success",
            "max": 46827520,
            "_view_module": "@jupyter-widgets/controls",
            "_model_module_version": "1.5.0",
            "value": 46827520,
            "_view_count": null,
            "_view_module_version": "1.5.0",
            "orientation": "horizontal",
            "min": 0,
            "description_tooltip": null,
            "_model_module": "@jupyter-widgets/controls",
            "layout": "IPY_MODEL_6584a34f697b4fee9dec1b0a7597805f"
          }
        },
        "117e27f1c8664b60b7a2a9885cc2a616": {
          "model_module": "@jupyter-widgets/controls",
          "model_name": "HTMLModel",
          "state": {
            "_view_name": "HTMLView",
            "style": "IPY_MODEL_bbbfcabe96e7410cab1887b01096d07e",
            "_dom_classes": [],
            "description": "",
            "_model_name": "HTMLModel",
            "placeholder": "​",
            "_view_module": "@jupyter-widgets/controls",
            "_model_module_version": "1.5.0",
            "value": " 44.7M/44.7M [02:06&lt;00:00, 371kB/s]",
            "_view_count": null,
            "_view_module_version": "1.5.0",
            "description_tooltip": null,
            "_model_module": "@jupyter-widgets/controls",
            "layout": "IPY_MODEL_e09873174f1148348831ffd99922df66"
          }
        },
        "0a6a94d58df24f83926cab43be37b465": {
          "model_module": "@jupyter-widgets/controls",
          "model_name": "ProgressStyleModel",
          "state": {
            "_view_name": "StyleView",
            "_model_name": "ProgressStyleModel",
            "description_width": "initial",
            "_view_module": "@jupyter-widgets/base",
            "_model_module_version": "1.5.0",
            "_view_count": null,
            "_view_module_version": "1.2.0",
            "bar_color": null,
            "_model_module": "@jupyter-widgets/controls"
          }
        },
        "6584a34f697b4fee9dec1b0a7597805f": {
          "model_module": "@jupyter-widgets/base",
          "model_name": "LayoutModel",
          "state": {
            "_view_name": "LayoutView",
            "grid_template_rows": null,
            "right": null,
            "justify_content": null,
            "_view_module": "@jupyter-widgets/base",
            "overflow": null,
            "_model_module_version": "1.2.0",
            "_view_count": null,
            "flex_flow": null,
            "width": null,
            "min_width": null,
            "border": null,
            "align_items": null,
            "bottom": null,
            "_model_module": "@jupyter-widgets/base",
            "top": null,
            "grid_column": null,
            "overflow_y": null,
            "overflow_x": null,
            "grid_auto_flow": null,
            "grid_area": null,
            "grid_template_columns": null,
            "flex": null,
            "_model_name": "LayoutModel",
            "justify_items": null,
            "grid_row": null,
            "max_height": null,
            "align_content": null,
            "visibility": null,
            "align_self": null,
            "height": null,
            "min_height": null,
            "padding": null,
            "grid_auto_rows": null,
            "grid_gap": null,
            "max_width": null,
            "order": null,
            "_view_module_version": "1.2.0",
            "grid_template_areas": null,
            "object_position": null,
            "object_fit": null,
            "grid_auto_columns": null,
            "margin": null,
            "display": null,
            "left": null
          }
        },
        "bbbfcabe96e7410cab1887b01096d07e": {
          "model_module": "@jupyter-widgets/controls",
          "model_name": "DescriptionStyleModel",
          "state": {
            "_view_name": "StyleView",
            "_model_name": "DescriptionStyleModel",
            "description_width": "",
            "_view_module": "@jupyter-widgets/base",
            "_model_module_version": "1.5.0",
            "_view_count": null,
            "_view_module_version": "1.2.0",
            "_model_module": "@jupyter-widgets/controls"
          }
        },
        "e09873174f1148348831ffd99922df66": {
          "model_module": "@jupyter-widgets/base",
          "model_name": "LayoutModel",
          "state": {
            "_view_name": "LayoutView",
            "grid_template_rows": null,
            "right": null,
            "justify_content": null,
            "_view_module": "@jupyter-widgets/base",
            "overflow": null,
            "_model_module_version": "1.2.0",
            "_view_count": null,
            "flex_flow": null,
            "width": null,
            "min_width": null,
            "border": null,
            "align_items": null,
            "bottom": null,
            "_model_module": "@jupyter-widgets/base",
            "top": null,
            "grid_column": null,
            "overflow_y": null,
            "overflow_x": null,
            "grid_auto_flow": null,
            "grid_area": null,
            "grid_template_columns": null,
            "flex": null,
            "_model_name": "LayoutModel",
            "justify_items": null,
            "grid_row": null,
            "max_height": null,
            "align_content": null,
            "visibility": null,
            "align_self": null,
            "height": null,
            "min_height": null,
            "padding": null,
            "grid_auto_rows": null,
            "grid_gap": null,
            "max_width": null,
            "order": null,
            "_view_module_version": "1.2.0",
            "grid_template_areas": null,
            "object_position": null,
            "object_fit": null,
            "grid_auto_columns": null,
            "margin": null,
            "display": null,
            "left": null
          }
        }
      }
    }
  },
  "cells": [
    {
      "cell_type": "code",
      "metadata": {
        "colab": {
          "base_uri": "https://localhost:8080/"
        },
        "id": "N8EFwNtnUc7x",
        "outputId": "14bfc8c4-eddd-4fa3-805c-f2ae00edeb7a"
      },
      "source": [
        "!nvidia-smi"
      ],
      "execution_count": 70,
      "outputs": [
        {
          "output_type": "stream",
          "text": [
            "Wed Mar  3 23:36:37 2021       \n",
            "+-----------------------------------------------------------------------------+\n",
            "| NVIDIA-SMI 460.39       Driver Version: 460.32.03    CUDA Version: 11.2     |\n",
            "|-------------------------------+----------------------+----------------------+\n",
            "| GPU  Name        Persistence-M| Bus-Id        Disp.A | Volatile Uncorr. ECC |\n",
            "| Fan  Temp  Perf  Pwr:Usage/Cap|         Memory-Usage | GPU-Util  Compute M. |\n",
            "|                               |                      |               MIG M. |\n",
            "|===============================+======================+======================|\n",
            "|   0  Tesla V100-SXM2...  Off  | 00000000:00:04.0 Off |                    0 |\n",
            "| N/A   41C    P0    38W / 300W |   1665MiB / 16160MiB |      0%      Default |\n",
            "|                               |                      |                  N/A |\n",
            "+-------------------------------+----------------------+----------------------+\n",
            "                                                                               \n",
            "+-----------------------------------------------------------------------------+\n",
            "| Processes:                                                                  |\n",
            "|  GPU   GI   CI        PID   Type   Process name                  GPU Memory |\n",
            "|        ID   ID                                                   Usage      |\n",
            "|=============================================================================|\n",
            "+-----------------------------------------------------------------------------+\n"
          ],
          "name": "stdout"
        }
      ]
    },
    {
      "cell_type": "markdown",
      "metadata": {
        "id": "qLNzlgI_Uo5h"
      },
      "source": [
        "##What is PyTorch?\n",
        "PyTorch is a Python-based scientific computing package serving two broad purposes:\n",
        "\n",
        "1. A replacement for NumPy to use the power of GPUs and other accelerators.\n",
        "2. An automatic differentiation library that is useful to implement neural networks."
      ]
    },
    {
      "cell_type": "markdown",
      "metadata": {
        "id": "0zAlZD_5UzeM"
      },
      "source": [
        "# Basic stuff"
      ]
    },
    {
      "cell_type": "code",
      "metadata": {
        "id": "8OQmnPmRVGMm"
      },
      "source": [
        "import torch\n",
        "import torch.nn as nn\n",
        "import torch.nn.functional as F\n",
        "import numpy as np\n"
      ],
      "execution_count": 71,
      "outputs": []
    },
    {
      "cell_type": "code",
      "metadata": {
        "id": "LnbHEDAqVGPp"
      },
      "source": [
        "device = torch.device('cuda' if torch.cuda.is_available() else 'cpu')"
      ],
      "execution_count": 72,
      "outputs": []
    },
    {
      "cell_type": "code",
      "metadata": {
        "colab": {
          "base_uri": "https://localhost:8080/"
        },
        "id": "gBKQGYYSVghK",
        "outputId": "37bac65b-3a35-447e-abd1-b507939b9339"
      },
      "source": [
        "device"
      ],
      "execution_count": 73,
      "outputs": [
        {
          "output_type": "execute_result",
          "data": {
            "text/plain": [
              "device(type='cuda')"
            ]
          },
          "metadata": {
            "tags": []
          },
          "execution_count": 73
        }
      ]
    },
    {
      "cell_type": "code",
      "metadata": {
        "colab": {
          "base_uri": "https://localhost:8080/"
        },
        "id": "pFRTuS9DVhIQ",
        "outputId": "8eca93ab-bd47-4c50-f420-cb7bf7f21fd6"
      },
      "source": [
        "t = torch.tensor([1,2])\n",
        "print(t, t.shape)"
      ],
      "execution_count": 74,
      "outputs": [
        {
          "output_type": "stream",
          "text": [
            "tensor([1, 2]) torch.Size([2])\n"
          ],
          "name": "stdout"
        }
      ]
    },
    {
      "cell_type": "code",
      "metadata": {
        "colab": {
          "base_uri": "https://localhost:8080/"
        },
        "id": "UVGhfhVIVnxh",
        "outputId": "fffcbca2-91fd-4aa7-d9f0-4b7ca96f5722"
      },
      "source": [
        "t = t.to(device)\n",
        "print(t, t.shape)"
      ],
      "execution_count": 75,
      "outputs": [
        {
          "output_type": "stream",
          "text": [
            "tensor([1, 2], device='cuda:0') torch.Size([2])\n"
          ],
          "name": "stdout"
        }
      ]
    },
    {
      "cell_type": "markdown",
      "metadata": {
        "id": "pW_rDJezG74M"
      },
      "source": [
        "## Numpy to torch tensor"
      ]
    },
    {
      "cell_type": "code",
      "metadata": {
        "id": "IwObw10QVorM"
      },
      "source": [
        "n = np.random.rand(10,4)"
      ],
      "execution_count": 76,
      "outputs": []
    },
    {
      "cell_type": "code",
      "metadata": {
        "colab": {
          "base_uri": "https://localhost:8080/"
        },
        "id": "8QQMQ87FVuUe",
        "outputId": "4fb3cb30-37a1-4a26-f088-5897d8a27bc7"
      },
      "source": [
        "n.shape"
      ],
      "execution_count": 77,
      "outputs": [
        {
          "output_type": "execute_result",
          "data": {
            "text/plain": [
              "(10, 4)"
            ]
          },
          "metadata": {
            "tags": []
          },
          "execution_count": 77
        }
      ]
    },
    {
      "cell_type": "code",
      "metadata": {
        "id": "_GbGNTWmV_x4",
        "colab": {
          "base_uri": "https://localhost:8080/"
        },
        "outputId": "45d13ddd-c843-4997-d821-2a0402a81671"
      },
      "source": [
        "torch.tensor(n).to(device)"
      ],
      "execution_count": 78,
      "outputs": [
        {
          "output_type": "execute_result",
          "data": {
            "text/plain": [
              "tensor([[0.0045, 0.7402, 0.5514, 0.5746],\n",
              "        [0.9944, 0.0885, 0.4161, 0.9092],\n",
              "        [0.4993, 0.3297, 0.5207, 0.1584],\n",
              "        [0.7421, 0.3627, 0.4423, 0.8174],\n",
              "        [0.7601, 0.9918, 0.2127, 0.2513],\n",
              "        [0.3317, 0.3074, 0.3079, 0.1716],\n",
              "        [0.7819, 0.0547, 0.3726, 0.2804],\n",
              "        [0.2439, 0.7564, 0.3534, 0.9663],\n",
              "        [0.9716, 0.3671, 0.6583, 0.1320],\n",
              "        [0.7906, 0.2599, 0.8303, 0.1759]], device='cuda:0',\n",
              "       dtype=torch.float64)"
            ]
          },
          "metadata": {
            "tags": []
          },
          "execution_count": 78
        }
      ]
    },
    {
      "cell_type": "markdown",
      "metadata": {
        "id": "3OZ-5-5vWWlu"
      },
      "source": [
        "# Autograd"
      ]
    },
    {
      "cell_type": "markdown",
      "metadata": {
        "id": "KzBA7aYvZuhN"
      },
      "source": [
        "![image.png](data:image/png;base64,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)"
      ]
    },
    {
      "cell_type": "code",
      "metadata": {
        "id": "SoH5aKKmZzdv"
      },
      "source": [
        "import torch\n",
        "\n",
        "a = torch.tensor([2., 3.], requires_grad=True)\n",
        "b = torch.tensor([6., 4.], requires_grad=True)\n",
        "Q = 3*a**3 - b**2"
      ],
      "execution_count": 79,
      "outputs": []
    },
    {
      "cell_type": "code",
      "metadata": {
        "colab": {
          "base_uri": "https://localhost:8080/"
        },
        "id": "Qm2YYS5QHE_4",
        "outputId": "196cb875-23ba-4ac8-ad58-c51b141b45da"
      },
      "source": [
        "Q.sum()"
      ],
      "execution_count": 81,
      "outputs": [
        {
          "output_type": "execute_result",
          "data": {
            "text/plain": [
              "tensor(53., grad_fn=<SumBackward0>)"
            ]
          },
          "metadata": {
            "tags": []
          },
          "execution_count": 81
        }
      ]
    },
    {
      "cell_type": "code",
      "metadata": {
        "id": "63NuBod9Z2vM"
      },
      "source": [
        "#Q -> scalar/vector? value?\n",
        "#dQ/da -> scalar/vector? value?\n",
        "#dQ/db -> scalar/vector? value?"
      ],
      "execution_count": null,
      "outputs": []
    },
    {
      "cell_type": "code",
      "metadata": {
        "id": "yGXbP_OkZ2x7"
      },
      "source": [
        "Q.sum().backward()"
      ],
      "execution_count": 82,
      "outputs": []
    },
    {
      "cell_type": "code",
      "metadata": {
        "id": "xmt42xihZ20w",
        "colab": {
          "base_uri": "https://localhost:8080/"
        },
        "outputId": "250c6ec6-9b98-43ee-ff99-692d9c992d92"
      },
      "source": [
        "a.grad, b.grad"
      ],
      "execution_count": 83,
      "outputs": [
        {
          "output_type": "execute_result",
          "data": {
            "text/plain": [
              "(tensor([36., 81.]), tensor([-12.,  -8.]))"
            ]
          },
          "metadata": {
            "tags": []
          },
          "execution_count": 83
        }
      ]
    },
    {
      "cell_type": "markdown",
      "metadata": {
        "id": "sRlUC-39bFhK"
      },
      "source": [
        "# Freezing model parameters"
      ]
    },
    {
      "cell_type": "code",
      "metadata": {
        "id": "eMtNQFy4WB8l",
        "colab": {
          "base_uri": "https://localhost:8080/",
          "height": 83,
          "referenced_widgets": [
            "c081db1c89a4448eaeb67378119bc5f9",
            "501dd8c1877f435f9d2df745b41908e3",
            "638f6baebb6c400686e76a58bbe28bf9",
            "117e27f1c8664b60b7a2a9885cc2a616",
            "0a6a94d58df24f83926cab43be37b465",
            "6584a34f697b4fee9dec1b0a7597805f",
            "bbbfcabe96e7410cab1887b01096d07e",
            "e09873174f1148348831ffd99922df66"
          ]
        },
        "outputId": "fda07cb8-a4af-4553-f9c3-6fcda6fe70bb"
      },
      "source": [
        "import torch, torchvision\n",
        "\n",
        "model = torchvision.models.resnet18(pretrained=True)\n",
        "data = torch.rand(1, 3, 64, 64)\n",
        "labels = torch.rand(1, 1000)"
      ],
      "execution_count": 20,
      "outputs": [
        {
          "output_type": "stream",
          "text": [
            "Downloading: \"https://download.pytorch.org/models/resnet18-5c106cde.pth\" to /root/.cache/torch/hub/checkpoints/resnet18-5c106cde.pth\n"
          ],
          "name": "stderr"
        },
        {
          "output_type": "display_data",
          "data": {
            "application/vnd.jupyter.widget-view+json": {
              "model_id": "c081db1c89a4448eaeb67378119bc5f9",
              "version_minor": 0,
              "version_major": 2
            },
            "text/plain": [
              "HBox(children=(FloatProgress(value=0.0, max=46827520.0), HTML(value='')))"
            ]
          },
          "metadata": {
            "tags": []
          }
        },
        {
          "output_type": "stream",
          "text": [
            "\n"
          ],
          "name": "stdout"
        }
      ]
    },
    {
      "cell_type": "code",
      "metadata": {
        "id": "-M2ODuW9WasY"
      },
      "source": [
        "# for name, param in model.named_parameters():\n",
        "#   print(name, \"\\t\", param.shape, \"\\t\", param.requires_grad)"
      ],
      "execution_count": 21,
      "outputs": []
    },
    {
      "cell_type": "code",
      "metadata": {
        "colab": {
          "base_uri": "https://localhost:8080/"
        },
        "id": "abRbimRSb1nD",
        "outputId": "d9430219-216b-4055-df4f-580058224593"
      },
      "source": [
        "model.conv1.weight.sum()"
      ],
      "execution_count": 22,
      "outputs": [
        {
          "output_type": "execute_result",
          "data": {
            "text/plain": [
              "tensor(0.2768, grad_fn=<SumBackward0>)"
            ]
          },
          "metadata": {
            "tags": []
          },
          "execution_count": 22
        }
      ]
    },
    {
      "cell_type": "code",
      "metadata": {
        "id": "S7TABQqNWcLK"
      },
      "source": [
        "prediction = model(data)"
      ],
      "execution_count": 23,
      "outputs": []
    },
    {
      "cell_type": "code",
      "metadata": {
        "colab": {
          "base_uri": "https://localhost:8080/"
        },
        "id": "X06z-OPdW8El",
        "outputId": "96a046b1-db0e-4e17-a73c-6e7735bf5ad8"
      },
      "source": [
        "loss = (prediction - labels).sum()\n",
        "loss"
      ],
      "execution_count": 24,
      "outputs": [
        {
          "output_type": "execute_result",
          "data": {
            "text/plain": [
              "tensor(-498.0746, grad_fn=<SumBackward0>)"
            ]
          },
          "metadata": {
            "tags": []
          },
          "execution_count": 24
        }
      ]
    },
    {
      "cell_type": "code",
      "metadata": {
        "id": "XtQa1F8GW8tE"
      },
      "source": [
        "loss.backward()"
      ],
      "execution_count": 25,
      "outputs": []
    },
    {
      "cell_type": "code",
      "metadata": {
        "colab": {
          "base_uri": "https://localhost:8080/"
        },
        "id": "RqbjvcZ1b0F4",
        "outputId": "f6e4198d-0dd7-4618-d352-795976c20f30"
      },
      "source": [
        "model.conv1.weight.sum()"
      ],
      "execution_count": 26,
      "outputs": [
        {
          "output_type": "execute_result",
          "data": {
            "text/plain": [
              "tensor(0.2768, grad_fn=<SumBackward0>)"
            ]
          },
          "metadata": {
            "tags": []
          },
          "execution_count": 26
        }
      ]
    },
    {
      "cell_type": "code",
      "metadata": {
        "id": "nyC157vSXNn9"
      },
      "source": [
        "optim = torch.optim.SGD(model.parameters(), lr=1e-2, momentum=0.9)"
      ],
      "execution_count": 27,
      "outputs": []
    },
    {
      "cell_type": "code",
      "metadata": {
        "id": "H2espCH8XdcD"
      },
      "source": [
        "optim.step()"
      ],
      "execution_count": 28,
      "outputs": []
    },
    {
      "cell_type": "code",
      "metadata": {
        "colab": {
          "base_uri": "https://localhost:8080/"
        },
        "id": "tfWPUL_jX0ua",
        "outputId": "6f565ce2-e484-43e9-c314-cfd2aa87b177"
      },
      "source": [
        "model.conv1.weight.sum()"
      ],
      "execution_count": 29,
      "outputs": [
        {
          "output_type": "execute_result",
          "data": {
            "text/plain": [
              "tensor(0.2752, grad_fn=<SumBackward0>)"
            ]
          },
          "metadata": {
            "tags": []
          },
          "execution_count": 29
        }
      ]
    },
    {
      "cell_type": "code",
      "metadata": {
        "id": "m2-W4UNMXwmo"
      },
      "source": [
        "for name, param in model.named_parameters():\n",
        "  if 'layer4' not in name:\n",
        "    param.requires_grad = False"
      ],
      "execution_count": null,
      "outputs": []
    },
    {
      "cell_type": "code",
      "metadata": {
        "colab": {
          "base_uri": "https://localhost:8080/"
        },
        "id": "DW3RuqXNXvEe",
        "outputId": "d828b478-a63c-4dd6-e0e9-2fb42ff2dcd4"
      },
      "source": [
        "model.conv1.weight.sum()"
      ],
      "execution_count": null,
      "outputs": [
        {
          "output_type": "execute_result",
          "data": {
            "text/plain": [
              "tensor(0.2792)"
            ]
          },
          "metadata": {
            "tags": []
          },
          "execution_count": 119
        }
      ]
    },
    {
      "cell_type": "markdown",
      "metadata": {
        "id": "oXClmWHQcW2M"
      },
      "source": [
        "# Text Classification"
      ]
    },
    {
      "cell_type": "code",
      "metadata": {
        "colab": {
          "base_uri": "https://localhost:8080/"
        },
        "id": "3C2vbE3icYeZ",
        "outputId": "c1e08fc6-d8a2-4b2c-bd43-df3bc07c2433"
      },
      "source": [
        "from sklearn.datasets import fetch_20newsgroups\n",
        "from pprint import  pprint\n",
        "import re\n",
        "from collections import Counter\n",
        "import pandas as pd\n",
        "import torch\n",
        "device = torch.device('cuda' if torch.cuda.is_available() else 'cpu')\n",
        "\n",
        "categories = ['alt.atheism', 'talk.religion.misc','comp.graphics', 'sci.space']\n",
        "newsgroups_train = fetch_20newsgroups(subset='train', \n",
        "                                      categories=categories)\n",
        "newsgroups_test = fetch_20newsgroups(subset='test', \n",
        "                                     categories=categories)\n",
        "\n",
        "print(newsgroups_train.filenames.shape, newsgroups_train.target.shape)\n",
        "print(newsgroups_test.target.shape, newsgroups_test.target.shape)"
      ],
      "execution_count": 84,
      "outputs": [
        {
          "output_type": "stream",
          "text": [
            "(2034,) (2034,)\n",
            "(1353,) (1353,)\n"
          ],
          "name": "stdout"
        }
      ]
    },
    {
      "cell_type": "code",
      "metadata": {
        "colab": {
          "base_uri": "https://localhost:8080/"
        },
        "id": "5YneTpdocZCF",
        "outputId": "db3db258-a71d-43f8-9f78-d3ea5509320b"
      },
      "source": [
        "{ix:i for ix, i in enumerate(list(newsgroups_train.target_names))}"
      ],
      "execution_count": 85,
      "outputs": [
        {
          "output_type": "execute_result",
          "data": {
            "text/plain": [
              "{0: 'alt.atheism', 1: 'comp.graphics', 2: 'sci.space', 3: 'talk.religion.misc'}"
            ]
          },
          "metadata": {
            "tags": []
          },
          "execution_count": 85
        }
      ]
    },
    {
      "cell_type": "code",
      "metadata": {
        "colab": {
          "base_uri": "https://localhost:8080/"
        },
        "id": "GUrLKV1Pcccl",
        "outputId": "85c9d254-09c6-4b21-bd07-f92ab5f3eb9d"
      },
      "source": [
        "pprint(list(zip(newsgroups_train.target, newsgroups_train.data))[:2])"
      ],
      "execution_count": 86,
      "outputs": [
        {
          "output_type": "stream",
          "text": [
            "[(1,\n",
            "  'From: rych@festival.ed.ac.uk (R Hawkes)\\n'\n",
            "  'Subject: 3DS: Where did all the texture rules go?\\n'\n",
            "  'Lines: 21\\n'\n",
            "  '\\n'\n",
            "  'Hi,\\n'\n",
            "  '\\n'\n",
            "  \"I've noticed that if you only save a model (with all your mapping planes\\n\"\n",
            "  'positioned carefully) to a .3DS file that when you reload it after '\n",
            "  'restarting\\n'\n",
            "  '3DS, they are given a default position and orientation.  But if you save\\n'\n",
            "  'to a .PRJ file their positions/orientation are preserved.  Does anyone\\n'\n",
            "  'know why this information is not stored in the .3DS file?  Nothing is\\n'\n",
            "  'explicitly said in the manual about saving texture rules in the .PRJ '\n",
            "  'file. \\n'\n",
            "  \"I'd like to be able to read the texture rule information, does anyone \"\n",
            "  'have \\n'\n",
            "  'the format for the .PRJ file?\\n'\n",
            "  '\\n'\n",
            "  'Is the .CEL file format available from somewhere?\\n'\n",
            "  '\\n'\n",
            "  'Rych\\n'\n",
            "  '\\n'\n",
            "  '======================================================================\\n'\n",
            "  'Rycharde Hawkes\\t\\t\\t\\temail: rych@festival.ed.ac.uk\\n'\n",
            "  'Virtual Environment Laboratory\\n'\n",
            "  'Dept. of Psychology\\t\\t\\tTel  : +44 31 650 3426\\n'\n",
            "  'Univ. of Edinburgh\\t\\t\\tFax  : +44 31 667 0150\\n'\n",
            "  '======================================================================\\n'),\n",
            " (3,\n",
            "  \"Subject: Re: Biblical Backing of Koresh's 3-02 Tape (Cites enclosed)\\n\"\n",
            "  'From: kmcvay@oneb.almanac.bc.ca (Ken Mcvay)\\n'\n",
            "  \"Organization: The Old Frog's Almanac\\n\"\n",
            "  'Lines: 20\\n'\n",
            "  '\\n'\n",
            "  'In article <20APR199301460499@utarlg.uta.edu> b645zaw@utarlg.uta.edu '\n",
            "  '(stephen) writes:\\n'\n",
            "  '\\n'\n",
            "  '>Seems to me Koresh is yet another messenger that got killed\\n'\n",
            "  '>for the message he carried. (Which says nothing about the \\n'\n",
            "  '\\n'\n",
            "  'Seems to be, barring evidence to the contrary, that Koresh was simply\\n'\n",
            "  'another deranged fanatic who thought it neccessary to take a whole bunch '\n",
            "  'of\\n'\n",
            "  'folks with him, children and all, to satisfy his delusional mania. Jim\\n'\n",
            "  'Jones, circa 1993.\\n'\n",
            "  '\\n'\n",
            "  '>In the mean time, we sure learned a lot about evil and corruption.\\n'\n",
            "  '>Are you surprised things have gotten that rotten?\\n'\n",
            "  '\\n'\n",
            "  'Nope - fruitcakes like Koresh have been demonstrating such evil corruption\\n'\n",
            "  'for centuries.\\n'\n",
            "  '-- \\n'\n",
            "  \"The Old Frog's Almanac - A Salute to That Old Frog Hisse'f, Ryugen Fisher \\n\"\n",
            "  '     (604) 245-3205 (v32) (604) 245-4366 (2400x4) SCO XENIX 2.3.2 GT \\n'\n",
            "  '  Ladysmith, British Columbia, CANADA. Serving Central Vancouver Island  \\n'\n",
            "  'with public access UseNet and Internet Mail - home to the Holocaust '\n",
            "  'Almanac\\n')]\n"
          ],
          "name": "stdout"
        }
      ]
    },
    {
      "cell_type": "code",
      "metadata": {
        "id": "bs_j5yF-dnDM"
      },
      "source": [
        "def cleanse(txt):\n",
        "  txt = txt.lower().replace(\"\\n\",\"\")\n",
        "  txt = re.sub(r\"[^a-z0-9 ]+\", r\" \", txt)\n",
        "  txt = re.sub(r\"\\s+\", r\" \", txt).strip()\n",
        "  return txt\n",
        "\n",
        "\n",
        "def get_vocab(data):\n",
        "  data = \" \".join([cleanse(i) for i in data])\n",
        "  return data.split()"
      ],
      "execution_count": 87,
      "outputs": []
    },
    {
      "cell_type": "code",
      "metadata": {
        "id": "Yl7KnkLbceF1"
      },
      "source": [
        "train_words = get_vocab(newsgroups_train.data)"
      ],
      "execution_count": 88,
      "outputs": []
    },
    {
      "cell_type": "code",
      "metadata": {
        "colab": {
          "base_uri": "https://localhost:8080/"
        },
        "id": "77098Y1meyqh",
        "outputId": "74d0c2dd-76cf-414f-9adb-13b0c6209eb6"
      },
      "source": [
        "len(train_words), len(set(train_words))"
      ],
      "execution_count": 89,
      "outputs": [
        {
          "output_type": "execute_result",
          "data": {
            "text/plain": [
              "(623827, 48201)"
            ]
          },
          "metadata": {
            "tags": []
          },
          "execution_count": 89
        }
      ]
    },
    {
      "cell_type": "code",
      "metadata": {
        "id": "bHhJ93qbckw-"
      },
      "source": [
        "word_freq = pd.DataFrame(Counter(train_words).most_common(), columns = ['word', 'freq'])"
      ],
      "execution_count": 90,
      "outputs": []
    },
    {
      "cell_type": "code",
      "metadata": {
        "colab": {
          "base_uri": "https://localhost:8080/"
        },
        "id": "R338RUJmfedZ",
        "outputId": "3ede627b-e8c3-474b-885c-a1c9673b3d16"
      },
      "source": [
        "word_freq.shape"
      ],
      "execution_count": 91,
      "outputs": [
        {
          "output_type": "execute_result",
          "data": {
            "text/plain": [
              "(48201, 2)"
            ]
          },
          "metadata": {
            "tags": []
          },
          "execution_count": 91
        }
      ]
    },
    {
      "cell_type": "code",
      "metadata": {
        "colab": {
          "base_uri": "https://localhost:8080/"
        },
        "id": "6RQUTPI6cnNG",
        "outputId": "833a3c58-3bc4-4d5b-ac62-f3e5fe48aef7"
      },
      "source": [
        "# How many words appear more than once ?\n",
        "word_freq[word_freq['freq'] > 1].shape[0]/word_freq.shape[0]"
      ],
      "execution_count": 92,
      "outputs": [
        {
          "output_type": "execute_result",
          "data": {
            "text/plain": [
              "0.44507375365656315"
            ]
          },
          "metadata": {
            "tags": []
          },
          "execution_count": 92
        }
      ]
    },
    {
      "cell_type": "code",
      "metadata": {
        "id": "TVCQ9Nixcwr3"
      },
      "source": [
        "# word_freq = word_freq[word_freq['freq'] > 1]\n",
        "# word_freq.head()"
      ],
      "execution_count": 39,
      "outputs": []
    },
    {
      "cell_type": "code",
      "metadata": {
        "id": "sn1hJuKOncnq"
      },
      "source": [
        "word_freq.index = word_freq.index+1"
      ],
      "execution_count": 93,
      "outputs": []
    },
    {
      "cell_type": "code",
      "metadata": {
        "id": "H7vaVhGHfbRP"
      },
      "source": [
        "id2word = word_freq.to_dict()['word']\n",
        "word2id = {v:k for k,v in id2word.items()}"
      ],
      "execution_count": 94,
      "outputs": []
    },
    {
      "cell_type": "code",
      "metadata": {
        "id": "vn9PK5sqf_I_"
      },
      "source": [
        "id2word[0] = 'PAD'\n",
        "id2word[max(id2word.keys()) + 1] = 'UNK'\n",
        "\n",
        "word2id['PAD'] = 0\n",
        "word2id['UNK'] = max(word2id.values()) + 1"
      ],
      "execution_count": 95,
      "outputs": []
    },
    {
      "cell_type": "code",
      "metadata": {
        "id": "OxC4wPIEgPte"
      },
      "source": [
        "def encode(txt):\n",
        "  return [word2id.get(i, word2id['UNK']) for i in txt.split()]\n",
        "\n",
        "def decode(lst):\n",
        "  return \" \".join([id2word.get(i, 'UNK') for i in lst])"
      ],
      "execution_count": 43,
      "outputs": []
    },
    {
      "cell_type": "code",
      "metadata": {
        "colab": {
          "base_uri": "https://localhost:8080/",
          "height": 103
        },
        "id": "RyOyJDMqepAF",
        "outputId": "f49bd98d-285f-4423-f29a-1b0806b4fdde"
      },
      "source": [
        "decode(encode(cleanse(newsgroups_train.data[0])))"
      ],
      "execution_count": 102,
      "outputs": [
        {
          "output_type": "execute_result",
          "data": {
            "application/vnd.google.colaboratory.intrinsic+json": {
              "type": "string"
            },
            "text/plain": [
              "'from rych festival ed ac uk r hawkes subject 3ds where did all the texture rules go lines 21hi i ve noticed that if you only save a model with all your mapping planespositioned carefully to a 3ds file that when you reload it after restarting3ds they are given a default position and orientation but if you saveto a prj file their positions orientation are preserved does anyoneknow why this information is not stored in the 3ds file nothing isexplicitly said in the manual about saving texture rules in the prj file i d like to be able to read the texture rule information does anyone have the format for the prj file is the cel file format available from somewhere rych rycharde hawkes email rych festival ed ac ukvirtual environment laboratorydept of psychology tel 44 31 650 3426univ of edinburgh fax 44 31 667 0150'"
            ]
          },
          "metadata": {
            "tags": []
          },
          "execution_count": 102
        }
      ]
    },
    {
      "cell_type": "code",
      "metadata": {
        "id": "V3SCcXIsXzbC"
      },
      "source": [
        "# Analyzing document lengths\n",
        "lens = [len(cleanse(i).split()) for i in newsgroups_train.data]"
      ],
      "execution_count": 103,
      "outputs": []
    },
    {
      "cell_type": "code",
      "metadata": {
        "id": "EWOOwfyBX6WM"
      },
      "source": [
        "import seaborn as sns\n",
        "import matplotlib.pyplot as plt\n",
        "import numpy as np"
      ],
      "execution_count": 104,
      "outputs": []
    },
    {
      "cell_type": "code",
      "metadata": {
        "colab": {
          "base_uri": "https://localhost:8080/",
          "height": 408
        },
        "id": "Z03BBcDKX9jk",
        "outputId": "55eeffcd-29ef-41b6-d1ea-108a90830278"
      },
      "source": [
        "plt.figure(figsize=(15,5))\n",
        "plt.subplot(1,2,1)\n",
        "sns.distplot(lens)\n",
        "plt.subplot(1,2,2)\n",
        "sns.distplot([i for i in lens if i <= 1000])\n",
        "plt.show()"
      ],
      "execution_count": 105,
      "outputs": [
        {
          "output_type": "stream",
          "text": [
            "/usr/local/lib/python3.7/dist-packages/seaborn/distributions.py:2557: FutureWarning: `distplot` is a deprecated function and will be removed in a future version. Please adapt your code to use either `displot` (a figure-level function with similar flexibility) or `histplot` (an axes-level function for histograms).\n",
            "  warnings.warn(msg, FutureWarning)\n",
            "/usr/local/lib/python3.7/dist-packages/seaborn/distributions.py:2557: FutureWarning: `distplot` is a deprecated function and will be removed in a future version. Please adapt your code to use either `displot` (a figure-level function with similar flexibility) or `histplot` (an axes-level function for histograms).\n",
            "  warnings.warn(msg, FutureWarning)\n"
          ],
          "name": "stderr"
        },
        {
          "output_type": "display_data",
          "data": {
            "image/png": "[encoded data removed]",
            "text/plain": [
              "<Figure size 1080x360 with 2 Axes>"
            ]
          },
          "metadata": {
            "tags": [],
            "needs_background": "light"
          }
        }
      ]
    },
    {
      "cell_type": "code",
      "metadata": {
        "id": "_RHcChW7gHLM"
      },
      "source": [
        "def max_padding(x, y, max_len=256):\n",
        "  ix = [ix for ix, i in enumerate(x) if len(i) <= max_len and len(i)>0]\n",
        "  x = np.asarray(x)[ix].tolist()\n",
        "  y = np.asarray(y)[ix].tolist()\n",
        "  return [(i + [0]*(max_len - len(i))) for i in x], [len(i) for i in x], y"
      ],
      "execution_count": 106,
      "outputs": []
    },
    {
      "cell_type": "code",
      "metadata": {
        "id": "X5HnWXYOhwM5"
      },
      "source": [
        "def format_data(x, y, to_tensor=True):\n",
        "  cleansed_data = [cleanse(i) for i in x]\n",
        "  encoded_data = [encode(i) for i in cleansed_data]\n",
        "  x, len, y = max_padding(encoded_data, y)\n",
        "  if to_tensor:\n",
        "    return torch.tensor(x), torch.tensor(len),torch.tensor(y)"
      ],
      "execution_count": 107,
      "outputs": []
    },
    {
      "cell_type": "code",
      "metadata": {
        "colab": {
          "base_uri": "https://localhost:8080/"
        },
        "id": "epSdud94h4sV",
        "outputId": "9dee5b0f-aa06-4edc-c386-691cf0e6b9b7"
      },
      "source": [
        "X_train, X_train_len, Y_train = format_data(newsgroups_train.data, newsgroups_train.target)\n",
        "X_test, X_test_len, Y_test = format_data(newsgroups_test.data, newsgroups_test.target)"
      ],
      "execution_count": 108,
      "outputs": [
        {
          "output_type": "stream",
          "text": [
            "/usr/local/lib/python3.7/dist-packages/numpy/core/_asarray.py:83: VisibleDeprecationWarning: Creating an ndarray from ragged nested sequences (which is a list-or-tuple of lists-or-tuples-or ndarrays with different lengths or shapes) is deprecated. If you meant to do this, you must specify 'dtype=object' when creating the ndarray\n",
            "  return array(a, dtype, copy=False, order=order)\n"
          ],
          "name": "stderr"
        }
      ]
    },
    {
      "cell_type": "code",
      "metadata": {
        "colab": {
          "base_uri": "https://localhost:8080/"
        },
        "id": "VuuqjJZ2ii2a",
        "outputId": "4b470c8a-31a6-45a2-cd2c-550e021cb720"
      },
      "source": [
        "X_train.shape, X_train_len.shape, Y_train.shape, X_test.shape, X_test_len.shape, Y_test.shape"
      ],
      "execution_count": 109,
      "outputs": [
        {
          "output_type": "execute_result",
          "data": {
            "text/plain": [
              "(torch.Size([1397, 256]),\n",
              " torch.Size([1397]),\n",
              " torch.Size([1397]),\n",
              " torch.Size([879, 256]),\n",
              " torch.Size([879]),\n",
              " torch.Size([879]))"
            ]
          },
          "metadata": {
            "tags": []
          },
          "execution_count": 109
        }
      ]
    },
    {
      "cell_type": "code",
      "metadata": {
        "id": "OwRER8VnjPN6"
      },
      "source": [
        "from torch.utils.data import TensorDataset, DataLoader, RandomSampler, SequentialSampler\n",
        "\n",
        "# Below we define a function to create train, test & valid dataloaders in Pytorch\n",
        "\n",
        "batch_size = 64\n",
        "\n",
        "def get_dataloader(x, lens, y):\n",
        "    data = TensorDataset(x, lens, y)\n",
        "    sampler = RandomSampler(data)\n",
        "    dataloader = DataLoader(data, sampler=sampler, batch_size=batch_size)\n",
        "    return dataloader\n",
        "\n",
        "train_datalaoder = get_dataloader(X_train, X_train_len, Y_train)\n",
        "test_datalaoder = get_dataloader(X_test, X_test_len, Y_test)"
      ],
      "execution_count": 113,
      "outputs": []
    },
    {
      "cell_type": "code",
      "metadata": {
        "colab": {
          "base_uri": "https://localhost:8080/"
        },
        "id": "A0EpgwoMi477",
        "outputId": "59b7a4b5-6d01-46a9-9670-78ae3535453a"
      },
      "source": [
        "# Sanity check that the tensors returned by the dataloader are correct\n",
        "\n",
        "for batch in train_datalaoder:\n",
        "    x, lens, y = batch\n",
        "    print(x.shape, lens.shape, y.shape)\n",
        "    break\n"
      ],
      "execution_count": 114,
      "outputs": [
        {
          "output_type": "stream",
          "text": [
            "torch.Size([64, 256]) torch.Size([64]) torch.Size([64])\n"
          ],
          "name": "stdout"
        }
      ]
    },
    {
      "cell_type": "code",
      "metadata": {
        "id": "zcDDnhNAjwEJ"
      },
      "source": [
        "import torch.nn as nn\n",
        "import torch.nn.functional as F"
      ],
      "execution_count": 115,
      "outputs": []
    },
    {
      "cell_type": "code",
      "metadata": {
        "id": "WtwpgWtbj-Pe"
      },
      "source": [
        "class Classifier(nn.Module):\n",
        "    def __init__(self, in_features, dropout=0.2, classes=20, embedding=100):\n",
        "        super().__init__()\n",
        "        self.emb = nn.Embedding(in_features, embedding)\n",
        "        self.seq = nn.Sequential(nn.Linear(embedding, 256),\n",
        "                                 nn.ReLU(),\n",
        "                                 nn.Dropout(dropout),\n",
        "                                 nn.Linear(256, 128),\n",
        "                                 nn.ReLU(),\n",
        "                                 nn.Dropout(dropout),\n",
        "                                 nn.Linear(128, 64),\n",
        "                                 nn.ReLU(),\n",
        "                                 nn.Linear(64, classes))\n",
        "    \n",
        "    def forward(self, x):\n",
        "        # x: [batch, seq len]\n",
        "        x = x.permute(1,0)\n",
        "        emb = self.emb(x)\n",
        "        # emb: [seq len, batch, emb dim]\n",
        "\n",
        "        x = torch.mean(emb, dim=0) # batch, emb dim\n",
        "        x = self.seq(x) #batch, classes\n",
        "        return x"
      ],
      "execution_count": 238,
      "outputs": []
    },
    {
      "cell_type": "code",
      "metadata": {
        "id": "ryb4spWTf9Fn"
      },
      "source": [
        "class Classname(nn.Module):\n",
        "  def __init__(self):\n",
        "    super().__init__()\n",
        "    .....\n",
        "\n",
        "  def forward(self):\n",
        "    ....."
      ],
      "execution_count": null,
      "outputs": []
    },
    {
      "cell_type": "code",
      "metadata": {
        "id": "Cm6WerCe7_dk"
      },
      "source": [
        "class RNNClassifier(nn.Module):\n",
        "    def __init__(self, in_features, dropout=0.2, classes=20, embedding=100):\n",
        "        super().__init__()\n",
        "        self.emb = nn.Embedding(in_features, embedding)\n",
        "        self.gru = nn.GRU(input_size=embedding,\n",
        "                          hidden_size=embedding,\n",
        "                          num_layers=2,\n",
        "                          dropout=dropout,\n",
        "                          bidirectional=True)\n",
        "        self.fc = nn.Linear(embedding*2, classes)\n",
        "        self.dropout = nn.Dropout(dropout)\n",
        "        self.directions = 2\n",
        "        self.hidden_size = embedding\n",
        "    \n",
        "    def forward(self, x, x_lens):\n",
        "        # x: [batch, seq len], x_lens: [batch]\n",
        "\n",
        "        batch = x.shape[0]\n",
        "        x = x.permute(1,0) # seq len, batch\n",
        "        emb = self.emb(x) # seq len, batch, emb dim\n",
        "\n",
        "        # Pack padded batch of sequences for RNN module\n",
        "        packed = nn.utils.rnn.pack_padded_sequence(emb, x_lens, \n",
        "                                                   batch_first=False,\n",
        "                                                   enforce_sorted=False)\n",
        "        # Forward pass through GRU\n",
        "        _, hidden = self.gru(packed)\n",
        "\n",
        "        hidden = hidden.view(-1, self.directions, batch, self.hidden_size) # num_layers, directions, batch, hidden_size\n",
        "        hidden = hidden.sum(0) # directions, batch, hidden_size\n",
        "        hidden = torch.tanh(self.dropout(torch.cat([hidden[0,:,:], hidden[1,:,:]], -1))) # batch, 2*hidden_size\n",
        "        x = self.fc(hidden) #batch, classes\n",
        "        return x"
      ],
      "execution_count": 58,
      "outputs": []
    },
    {
      "cell_type": "code",
      "metadata": {
        "id": "3TVRevv7l6RG"
      },
      "source": [
        "in_features = len(word2id)+1\n",
        "dropout = 0.2\n",
        "classes = 4\n",
        "embedding = 64\n",
        "model = RNNClassifier(in_features, dropout, classes, embedding).to(device)"
      ],
      "execution_count": 116,
      "outputs": []
    },
    {
      "cell_type": "code",
      "metadata": {
        "colab": {
          "base_uri": "https://localhost:8080/"
        },
        "id": "DAHJrBv3umCw",
        "outputId": "79d63a41-39f6-49ea-fda5-53ee2920f697"
      },
      "source": [
        "def count_parameters(model):\n",
        "  return sum(p.numel() for p in model.parameters() if p.requires_grad)\n",
        "\n",
        "print(f'The model has {count_parameters(model):,} trainable parameters')"
      ],
      "execution_count": 117,
      "outputs": [
        {
          "output_type": "stream",
          "text": [
            "The model has 3,209,988 trainable parameters\n"
          ],
          "name": "stdout"
        }
      ]
    },
    {
      "cell_type": "code",
      "metadata": {
        "colab": {
          "base_uri": "https://localhost:8080/"
        },
        "id": "KRkhxG-F_2Ax",
        "outputId": "00735792-04bc-4c50-c0b5-abf4c964c71a"
      },
      "source": [
        "model"
      ],
      "execution_count": 118,
      "outputs": [
        {
          "output_type": "execute_result",
          "data": {
            "text/plain": [
              "RNNClassifier(\n",
              "  (emb): Embedding(48204, 64)\n",
              "  (gru): GRU(64, 64, num_layers=2, dropout=0.2, bidirectional=True)\n",
              "  (fc): Linear(in_features=128, out_features=4, bias=True)\n",
              "  (dropout): Dropout(p=0.2, inplace=False)\n",
              ")"
            ]
          },
          "metadata": {
            "tags": []
          },
          "execution_count": 118
        }
      ]
    },
    {
      "cell_type": "code",
      "metadata": {
        "colab": {
          "base_uri": "https://localhost:8080/"
        },
        "id": "DkLEQ2HXh0Sq",
        "outputId": "3745e11b-0043-472e-b57b-dc19fbe879f1"
      },
      "source": [
        "for name, param in model.named_parameters():\n",
        "  print(name, param.shape, param.requires_grad)"
      ],
      "execution_count": 119,
      "outputs": [
        {
          "output_type": "stream",
          "text": [
            "emb.weight torch.Size([48204, 64]) True\n",
            "gru.weight_ih_l0 torch.Size([192, 64]) True\n",
            "gru.weight_hh_l0 torch.Size([192, 64]) True\n",
            "gru.bias_ih_l0 torch.Size([192]) True\n",
            "gru.bias_hh_l0 torch.Size([192]) True\n",
            "gru.weight_ih_l0_reverse torch.Size([192, 64]) True\n",
            "gru.weight_hh_l0_reverse torch.Size([192, 64]) True\n",
            "gru.bias_ih_l0_reverse torch.Size([192]) True\n",
            "gru.bias_hh_l0_reverse torch.Size([192]) True\n",
            "gru.weight_ih_l1 torch.Size([192, 128]) True\n",
            "gru.weight_hh_l1 torch.Size([192, 64]) True\n",
            "gru.bias_ih_l1 torch.Size([192]) True\n",
            "gru.bias_hh_l1 torch.Size([192]) True\n",
            "gru.weight_ih_l1_reverse torch.Size([192, 128]) True\n",
            "gru.weight_hh_l1_reverse torch.Size([192, 64]) True\n",
            "gru.bias_ih_l1_reverse torch.Size([192]) True\n",
            "gru.bias_hh_l1_reverse torch.Size([192]) True\n",
            "fc.weight torch.Size([4, 128]) True\n",
            "fc.bias torch.Size([4]) True\n"
          ],
          "name": "stdout"
        }
      ]
    },
    {
      "cell_type": "code",
      "metadata": {
        "id": "JW7T1cjMlmOk"
      },
      "source": [
        "criterion = torch.nn.CrossEntropyLoss()\n",
        "optim = torch.optim.AdamW(model.parameters(), lr = 2e-4)"
      ],
      "execution_count": 120,
      "outputs": []
    },
    {
      "cell_type": "code",
      "metadata": {
        "id": "kS_7ATQMolvX"
      },
      "source": [
        "# Training function: Performs forward propagation, backpropagation & optimization.\n",
        "# We also implement gradient clipping, which prevents the gradients from exploding\n",
        "\n",
        "def train(model, dataloader, optimizer, criterion, clip=1.0):\n",
        "\n",
        "    model.train()\n",
        "\n",
        "    ep_t_loss = 0\n",
        "    batch_num  = 0\n",
        "    pred, tgt = [], []\n",
        "    for ix, batch in enumerate(dataloader):\n",
        "        # batch = tuple(t.to(device) for t in batch)\n",
        "        x, lens, y = batch\n",
        "        x = x.to(device)\n",
        "        y = y.to(device)\n",
        "        # if ix % 20 == 0:\n",
        "        #     print(\"Training Batch \",ix)\n",
        "        \n",
        "        optimizer.zero_grad()\n",
        "        output = model(x, lens)     \n",
        "        loss = criterion(output, y)\n",
        "        loss.backward()\n",
        "\n",
        "        #gradient clipping\n",
        "        torch.nn.utils.clip_grad_norm_(model.parameters(), clip)\n",
        "        optimizer.step()\n",
        "\n",
        "        ep_t_loss += loss.item()\n",
        "        batch_num += 1\n",
        "        pred.extend(torch.argmax(output, -1).tolist())\n",
        "        tgt.extend(y.tolist())\n",
        "\n",
        "    return ep_t_loss/batch_num, metrics.f1_score(tgt, pred, average='macro')"
      ],
      "execution_count": 63,
      "outputs": []
    },
    {
      "cell_type": "code",
      "metadata": {
        "id": "GPW6cnMWua--"
      },
      "source": [
        "# Evaluation function: Calculates loss on the validation data.\n",
        "from sklearn import metrics\n",
        "\n",
        "def evaluate(model, dataloader, criterion, optimizer):\n",
        "\n",
        "    model.eval()\n",
        "\n",
        "    ep_t_loss = 0\n",
        "    batch_num  = 0\n",
        "    pred, tgt = [], []\n",
        "    for ix, batch in enumerate(dataloader):\n",
        "        # batch = tuple(t.to(device) for t in batch)\n",
        "        x, lens, y = batch\n",
        "        x = x.to(device)\n",
        "        y = y.to(device)\n",
        "        # if ix % 20 == 0:\n",
        "        #     print(\"Validation Batch \",ix)\n",
        "        \n",
        "        optimizer.zero_grad()\n",
        "\n",
        "        with torch.no_grad():\n",
        "            output = model(x, lens)\n",
        "            \n",
        "            loss = criterion(output, y)\n",
        "\n",
        "            ep_t_loss += loss.item()\n",
        "            batch_num += 1\n",
        "            pred.extend(torch.argmax(output, -1).tolist())\n",
        "            tgt.extend(y.tolist())\n",
        "        \n",
        "    return ep_t_loss/batch_num, metrics.f1_score(tgt, pred, average='macro'), pred, tgt"
      ],
      "execution_count": 121,
      "outputs": []
    },
    {
      "cell_type": "code",
      "metadata": {
        "id": "RLByi3-1uhCq"
      },
      "source": [
        "best_valid_loss = float('inf')\n",
        "tot_t_loss, tot_v_loss =[],[]\n",
        "N_EPOCHS = 20"
      ],
      "execution_count": 122,
      "outputs": []
    },
    {
      "cell_type": "code",
      "metadata": {
        "colab": {
          "base_uri": "https://localhost:8080/"
        },
        "id": "ZMpxndMrK5nl",
        "outputId": "db4bdfa0-0325-40e5-d009-3e960335c723"
      },
      "source": [
        "import time\n",
        "from tqdm import tqdm\n",
        "\n",
        "for epoch in tqdm(range(N_EPOCHS)): \n",
        "\n",
        "    tr_l, tr_f1= train(model, train_datalaoder, optim, criterion)\n",
        "    tot_t_loss.append(tr_l)\n",
        "\n",
        "    val_l, val_f1, pred, tgt = evaluate(model, test_datalaoder, criterion, optim)\n",
        "    tot_v_loss.append(val_l)\n",
        "    \n",
        "    if val_l < best_valid_loss:\n",
        "        best_valid_loss = val_l\n",
        "        best_pred, best_tgt = pred, tgt\n",
        "        torch.save(model.state_dict(), 'model_least_loss.pt')\n",
        "        print(\"\\nBest Model Saved !!\")\n",
        "    elif epoch % 3 == 0:\n",
        "        torch.save(model.state_dict(), 'model_checkpoint_'+str(epoch)+'.pt')\n",
        "        print(\"\\Checkpoint Model Saved !!\")\n",
        "    print(\"\\n\")\n",
        "    print(f'Epoch: {epoch+1:02}')\n",
        "    print(f'\\tTrain Total Loss: {tr_l:.3f} | Train F1: {tr_f1:.3f}')\n",
        "    print(f'\\tVal. Total Loss: {val_l:.3f} | Valid F1: {val_f1:.3f}')\n",
        "    print(\"_________________________________________________________________\")"
      ],
      "execution_count": 123,
      "outputs": [
        {
          "output_type": "stream",
          "text": [
            "  5%|▌         | 1/20 [00:01<00:32,  1.73s/it]"
          ],
          "name": "stderr"
        },
        {
          "output_type": "stream",
          "text": [
            "\n",
            "Best Model Saved !!\n",
            "\n",
            "\n",
            "Epoch: 01\n",
            "\tTrain Total Loss: 1.376 | Train F1: 0.235\n",
            "\tVal. Total Loss: 1.350 | Valid F1: 0.167\n",
            "_________________________________________________________________\n"
          ],
          "name": "stdout"
        },
        {
          "output_type": "stream",
          "text": [
            "\r 10%|█         | 2/20 [00:03<00:30,  1.71s/it]"
          ],
          "name": "stderr"
        },
        {
          "output_type": "stream",
          "text": [
            "\n",
            "Best Model Saved !!\n",
            "\n",
            "\n",
            "Epoch: 02\n",
            "\tTrain Total Loss: 1.305 | Train F1: 0.238\n",
            "\tVal. Total Loss: 1.325 | Valid F1: 0.185\n",
            "_________________________________________________________________\n"
          ],
          "name": "stdout"
        },
        {
          "output_type": "stream",
          "text": [
            "\r 15%|█▌        | 3/20 [00:05<00:28,  1.70s/it]"
          ],
          "name": "stderr"
        },
        {
          "output_type": "stream",
          "text": [
            "\n",
            "Best Model Saved !!\n",
            "\n",
            "\n",
            "Epoch: 03\n",
            "\tTrain Total Loss: 1.267 | Train F1: 0.305\n",
            "\tVal. Total Loss: 1.300 | Valid F1: 0.251\n",
            "_________________________________________________________________\n"
          ],
          "name": "stdout"
        },
        {
          "output_type": "stream",
          "text": [
            "\r 20%|██        | 4/20 [00:06<00:27,  1.70s/it]"
          ],
          "name": "stderr"
        },
        {
          "output_type": "stream",
          "text": [
            "\n",
            "Best Model Saved !!\n",
            "\n",
            "\n",
            "Epoch: 04\n",
            "\tTrain Total Loss: 1.229 | Train F1: 0.359\n",
            "\tVal. Total Loss: 1.275 | Valid F1: 0.296\n",
            "_________________________________________________________________\n"
          ],
          "name": "stdout"
        },
        {
          "output_type": "stream",
          "text": [
            "\r 25%|██▌       | 5/20 [00:08<00:25,  1.67s/it]"
          ],
          "name": "stderr"
        },
        {
          "output_type": "stream",
          "text": [
            "\n",
            "Best Model Saved !!\n",
            "\n",
            "\n",
            "Epoch: 05\n",
            "\tTrain Total Loss: 1.192 | Train F1: 0.401\n",
            "\tVal. Total Loss: 1.250 | Valid F1: 0.337\n",
            "_________________________________________________________________\n"
          ],
          "name": "stdout"
        },
        {
          "output_type": "stream",
          "text": [
            "\r 30%|███       | 6/20 [00:10<00:23,  1.69s/it]"
          ],
          "name": "stderr"
        },
        {
          "output_type": "stream",
          "text": [
            "\n",
            "Best Model Saved !!\n",
            "\n",
            "\n",
            "Epoch: 06\n",
            "\tTrain Total Loss: 1.151 | Train F1: 0.430\n",
            "\tVal. Total Loss: 1.226 | Valid F1: 0.343\n",
            "_________________________________________________________________\n"
          ],
          "name": "stdout"
        },
        {
          "output_type": "stream",
          "text": [
            "\r 35%|███▌      | 7/20 [00:11<00:21,  1.68s/it]"
          ],
          "name": "stderr"
        },
        {
          "output_type": "stream",
          "text": [
            "\n",
            "Best Model Saved !!\n",
            "\n",
            "\n",
            "Epoch: 07\n",
            "\tTrain Total Loss: 1.105 | Train F1: 0.476\n",
            "\tVal. Total Loss: 1.192 | Valid F1: 0.370\n",
            "_________________________________________________________________\n"
          ],
          "name": "stdout"
        },
        {
          "output_type": "stream",
          "text": [
            "\r 40%|████      | 8/20 [00:13<00:20,  1.67s/it]"
          ],
          "name": "stderr"
        },
        {
          "output_type": "stream",
          "text": [
            "\n",
            "Best Model Saved !!\n",
            "\n",
            "\n",
            "Epoch: 08\n",
            "\tTrain Total Loss: 1.049 | Train F1: 0.491\n",
            "\tVal. Total Loss: 1.158 | Valid F1: 0.402\n",
            "_________________________________________________________________\n"
          ],
          "name": "stdout"
        },
        {
          "output_type": "stream",
          "text": [
            "\r 45%|████▌     | 9/20 [00:15<00:18,  1.65s/it]"
          ],
          "name": "stderr"
        },
        {
          "output_type": "stream",
          "text": [
            "\n",
            "Best Model Saved !!\n",
            "\n",
            "\n",
            "Epoch: 09\n",
            "\tTrain Total Loss: 0.990 | Train F1: 0.543\n",
            "\tVal. Total Loss: 1.120 | Valid F1: 0.423\n",
            "_________________________________________________________________\n"
          ],
          "name": "stdout"
        },
        {
          "output_type": "stream",
          "text": [
            "\r 50%|█████     | 10/20 [00:16<00:16,  1.64s/it]"
          ],
          "name": "stderr"
        },
        {
          "output_type": "stream",
          "text": [
            "\n",
            "Best Model Saved !!\n",
            "\n",
            "\n",
            "Epoch: 10\n",
            "\tTrain Total Loss: 0.927 | Train F1: 0.570\n",
            "\tVal. Total Loss: 1.092 | Valid F1: 0.445\n",
            "_________________________________________________________________\n"
          ],
          "name": "stdout"
        },
        {
          "output_type": "stream",
          "text": [
            "\r 55%|█████▌    | 11/20 [00:18<00:14,  1.64s/it]"
          ],
          "name": "stderr"
        },
        {
          "output_type": "stream",
          "text": [
            "\n",
            "Best Model Saved !!\n",
            "\n",
            "\n",
            "Epoch: 11\n",
            "\tTrain Total Loss: 0.862 | Train F1: 0.630\n",
            "\tVal. Total Loss: 1.084 | Valid F1: 0.493\n",
            "_________________________________________________________________\n"
          ],
          "name": "stdout"
        },
        {
          "output_type": "stream",
          "text": [
            "\r 60%|██████    | 12/20 [00:19<00:13,  1.63s/it]"
          ],
          "name": "stderr"
        },
        {
          "output_type": "stream",
          "text": [
            "\n",
            "Best Model Saved !!\n",
            "\n",
            "\n",
            "Epoch: 12\n",
            "\tTrain Total Loss: 0.793 | Train F1: 0.669\n",
            "\tVal. Total Loss: 1.054 | Valid F1: 0.531\n",
            "_________________________________________________________________\n"
          ],
          "name": "stdout"
        },
        {
          "output_type": "stream",
          "text": [
            "\r 65%|██████▌   | 13/20 [00:21<00:11,  1.63s/it]"
          ],
          "name": "stderr"
        },
        {
          "output_type": "stream",
          "text": [
            "\n",
            "Best Model Saved !!\n",
            "\n",
            "\n",
            "Epoch: 13\n",
            "\tTrain Total Loss: 0.731 | Train F1: 0.717\n",
            "\tVal. Total Loss: 1.050 | Valid F1: 0.553\n",
            "_________________________________________________________________\n"
          ],
          "name": "stdout"
        },
        {
          "output_type": "stream",
          "text": [
            "\r 70%|███████   | 14/20 [00:23<00:09,  1.62s/it]"
          ],
          "name": "stderr"
        },
        {
          "output_type": "stream",
          "text": [
            "\n",
            "Best Model Saved !!\n",
            "\n",
            "\n",
            "Epoch: 14\n",
            "\tTrain Total Loss: 0.675 | Train F1: 0.742\n",
            "\tVal. Total Loss: 1.037 | Valid F1: 0.575\n",
            "_________________________________________________________________\n"
          ],
          "name": "stdout"
        },
        {
          "output_type": "stream",
          "text": [
            "\r 75%|███████▌  | 15/20 [00:24<00:08,  1.63s/it]"
          ],
          "name": "stderr"
        },
        {
          "output_type": "stream",
          "text": [
            "\n",
            "\n",
            "Epoch: 15\n",
            "\tTrain Total Loss: 0.610 | Train F1: 0.774\n",
            "\tVal. Total Loss: 1.063 | Valid F1: 0.566\n",
            "_________________________________________________________________\n"
          ],
          "name": "stdout"
        },
        {
          "output_type": "stream",
          "text": [
            "\r 80%|████████  | 16/20 [00:26<00:06,  1.64s/it]"
          ],
          "name": "stderr"
        },
        {
          "output_type": "stream",
          "text": [
            "\\Checkpoint Model Saved !!\n",
            "\n",
            "\n",
            "Epoch: 16\n",
            "\tTrain Total Loss: 0.561 | Train F1: 0.800\n",
            "\tVal. Total Loss: 1.055 | Valid F1: 0.573\n",
            "_________________________________________________________________\n"
          ],
          "name": "stdout"
        },
        {
          "output_type": "stream",
          "text": [
            "\r 85%|████████▌ | 17/20 [00:28<00:04,  1.64s/it]"
          ],
          "name": "stderr"
        },
        {
          "output_type": "stream",
          "text": [
            "\n",
            "\n",
            "Epoch: 17\n",
            "\tTrain Total Loss: 0.513 | Train F1: 0.821\n",
            "\tVal. Total Loss: 1.083 | Valid F1: 0.560\n",
            "_________________________________________________________________\n"
          ],
          "name": "stdout"
        },
        {
          "output_type": "stream",
          "text": [
            "\r 90%|█████████ | 18/20 [00:29<00:03,  1.63s/it]"
          ],
          "name": "stderr"
        },
        {
          "output_type": "stream",
          "text": [
            "\n",
            "\n",
            "Epoch: 18\n",
            "\tTrain Total Loss: 0.466 | Train F1: 0.840\n",
            "\tVal. Total Loss: 1.100 | Valid F1: 0.567\n",
            "_________________________________________________________________\n"
          ],
          "name": "stdout"
        },
        {
          "output_type": "stream",
          "text": [
            "\r 95%|█████████▌| 19/20 [00:31<00:01,  1.61s/it]"
          ],
          "name": "stderr"
        },
        {
          "output_type": "stream",
          "text": [
            "\\Checkpoint Model Saved !!\n",
            "\n",
            "\n",
            "Epoch: 19\n",
            "\tTrain Total Loss: 0.423 | Train F1: 0.863\n",
            "\tVal. Total Loss: 1.109 | Valid F1: 0.576\n",
            "_________________________________________________________________\n"
          ],
          "name": "stdout"
        },
        {
          "output_type": "stream",
          "text": [
            "100%|██████████| 20/20 [00:32<00:00,  1.65s/it]"
          ],
          "name": "stderr"
        },
        {
          "output_type": "stream",
          "text": [
            "\n",
            "\n",
            "Epoch: 20\n",
            "\tTrain Total Loss: 0.382 | Train F1: 0.874\n",
            "\tVal. Total Loss: 1.114 | Valid F1: 0.579\n",
            "_________________________________________________________________\n"
          ],
          "name": "stdout"
        },
        {
          "output_type": "stream",
          "text": [
            "\n"
          ],
          "name": "stderr"
        }
      ]
    },
    {
      "cell_type": "code",
      "metadata": {
        "colab": {
          "base_uri": "https://localhost:8080/",
          "height": 282
        },
        "id": "n27laROzv-L8",
        "outputId": "c76bd558-6bb6-40fa-dc12-d820ecb33af7"
      },
      "source": [
        "plt.plot(tot_t_loss, label='tot_t_loss')\n",
        "plt.plot(tot_v_loss, label = 'tot_v_loss')\n",
        "plt.legend()"
      ],
      "execution_count": 124,
      "outputs": [
        {
          "output_type": "execute_result",
          "data": {
            "text/plain": [
              "<matplotlib.legend.Legend at 0x7f2d215a8610>"
            ]
          },
          "metadata": {
            "tags": []
          },
          "execution_count": 124
        },
        {
          "output_type": "display_data",
          "data": {
            "image/png": "[encoded data removed]",
            "text/plain": [
              "<Figure size 432x288 with 1 Axes>"
            ]
          },
          "metadata": {
            "tags": [],
            "needs_background": "light"
          }
        }
      ]
    },
    {
      "cell_type": "code",
      "metadata": {
        "id": "5J0CbxGQfNWh",
        "colab": {
          "base_uri": "https://localhost:8080/"
        },
        "outputId": "38d0615a-58e2-4ebd-b65d-40583680e1c2"
      },
      "source": [
        "print(metrics.classification_report(best_tgt, best_pred))"
      ],
      "execution_count": 125,
      "outputs": [
        {
          "output_type": "stream",
          "text": [
            "              precision    recall  f1-score   support\n",
            "\n",
            "           0       0.74      0.52      0.61       179\n",
            "           1       0.58      0.83      0.68       301\n",
            "           2       0.60      0.56      0.58       259\n",
            "           3       0.59      0.34      0.43       140\n",
            "\n",
            "    accuracy                           0.61       879\n",
            "   macro avg       0.63      0.56      0.58       879\n",
            "weighted avg       0.62      0.61      0.60       879\n",
            "\n"
          ],
          "name": "stdout"
        }
      ]
    },
    {
      "cell_type": "code",
      "metadata": {
        "id": "ygkuLsQqFp0T"
      },
      "source": [
        ""
      ],
      "execution_count": null,
      "outputs": []
    }
  ]
}